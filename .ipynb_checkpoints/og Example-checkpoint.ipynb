{
 "cells": [
  {
   "cell_type": "code",
   "execution_count": 1,
   "id": "8735c0fe",
   "metadata": {},
   "outputs": [],
   "source": [
    "selected_point = \"\""
   ]
  },
  {
   "cell_type": "code",
   "execution_count": 2,
   "id": "2dc8d2f5",
   "metadata": {},
   "outputs": [],
   "source": [
    "def target_func(comm, open_msg):\n",
    "    # comm is the kernel Comm instance\n",
    "    # msg is the comm_open message\n",
    "\n",
    "    # Register handler for later messages\n",
    "    @comm.on_msg\n",
    "    def _recv(msg):\n",
    "        global selected_point\n",
    "\n",
    "        data = msg['content']['data']\n",
    "        selected_point = data['selected_point']\n",
    "        \n",
    "get_ipython().kernel.comm_manager.register_target('comm1', target_func)"
   ]
  },
  {
   "cell_type": "code",
   "execution_count": 7,
   "id": "cd1adfb3",
   "metadata": {},
   "outputs": [
    {
     "name": "stdout",
     "output_type": "stream",
     "text": [
      "c1\n"
     ]
    }
   ],
   "source": [
    "print(selected_point)"
   ]
  },
  {
   "cell_type": "code",
   "execution_count": 8,
   "id": "dd55a685",
   "metadata": {},
   "outputs": [
    {
     "data": {
      "text/html": [
       "<head>\n",
       "<svg>\n",
       "    <circle r=5 cx=5 cy=5 id=\"c1\"></circle>\n",
       "</svg>\n",
       "</head>\n",
       "\n",
       "<script type=\"text/javascript\">\n",
       "\n",
       "var comm = Jupyter.notebook.kernel.comm_manager.new_comm('comm1', {'selected_point': \"\"})\n",
       "\n",
       "document.querySelector('circle').addEventListener(\"click\", (e) => {\n",
       "    console.log(e.target.id)\n",
       "    // Send data\n",
       "    comm.send({'selected_point': e.target.id})\n",
       "});  \n",
       "\n",
       "// Register a handler\n",
       "comm.on_msg(function(msg) {\n",
       "    console.log(msg.content.data);\n",
       "});\n",
       "\n",
       "// Register a handler for the closing event\n",
       "comm.on_close(function(msg) {\n",
       "    console.log(msg.content);\n",
       "});\n",
       "\n",
       "</script>\n"
      ],
      "text/plain": [
       "<IPython.core.display.HTML object>"
      ]
     },
     "metadata": {},
     "output_type": "display_data"
    }
   ],
   "source": [
    "%%html\n",
    "<head>\n",
    "<svg>\n",
    "    <circle r=5 cx=5 cy=5 id=\"c1\"></circle>\n",
    "</svg>\n",
    "</head>\n",
    "\n",
    "<script type=\"text/javascript\">\n",
    "\n",
    "var comm = Jupyter.notebook.kernel.comm_manager.new_comm('comm1', {'selected_point': \"\"})\n",
    "\n",
    "document.querySelector('circle').addEventListener(\"click\", (e) => {\n",
    "    console.log(e.target.id)\n",
    "    // Send data\n",
    "    comm.send({'selected_point': e.target.id})\n",
    "});  \n",
    "\n",
    "// Register a handler\n",
    "comm.on_msg(function(msg) {\n",
    "    console.log(msg.content.data);\n",
    "});\n",
    "\n",
    "// Register a handler for the closing event\n",
    "comm.on_close(function(msg) {\n",
    "    console.log(msg.content);\n",
    "});\n",
    "\n",
    "</script>"
   ]
  },
  {
   "cell_type": "code",
   "execution_count": 9,
   "id": "3f9732cb",
   "metadata": {},
   "outputs": [
    {
     "name": "stdout",
     "output_type": "stream",
     "text": [
      "c1\n"
     ]
    }
   ],
   "source": [
    "print(selected_point)"
   ]
  },
  {
   "cell_type": "code",
   "execution_count": 6,
   "id": "07645611",
   "metadata": {},
   "outputs": [
    {
     "name": "stdout",
     "output_type": "stream",
     "text": [
      "c1\n"
     ]
    }
   ],
   "source": [
    "print(selected_point)"
   ]
  },
  {
   "cell_type": "code",
   "execution_count": null,
   "id": "ae4e5745",
   "metadata": {},
   "outputs": [],
   "source": []
  }
 ],
 "metadata": {
  "kernelspec": {
   "display_name": "Python 3 (ipykernel)",
   "language": "python",
   "name": "python3"
  },
  "language_info": {
   "codemirror_mode": {
    "name": "ipython",
    "version": 3
   },
   "file_extension": ".py",
   "mimetype": "text/x-python",
   "name": "python",
   "nbconvert_exporter": "python",
   "pygments_lexer": "ipython3",
   "version": "3.9.7"
  }
 },
 "nbformat": 4,
 "nbformat_minor": 5
}
