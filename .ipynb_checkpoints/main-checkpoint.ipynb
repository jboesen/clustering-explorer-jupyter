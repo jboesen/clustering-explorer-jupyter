{
 "cells": [],
 "metadata": {
  "kernelspec": {
   "display_name": "Python 3.10.4 ('meaner_redteamer-env')",
   "language": "python",
   "name": "python3"
  },
  "language_info": {
   "codemirror_mode": {
    "name": "ipython",
    "version": 3
   },
   "file_extension": ".py",
   "mimetype": "text/x-python",
   "name": "python",
   "nbconvert_exporter": "python",
   "pygments_lexer": "ipython3",
   "version": "3.10.4"
  },
  "orig_nbformat": 4,
  "vscode": {
   "interpreter": {
    "hash": "286a60f1c72aacc15b1cee87a90ec1ceb8922efc14486ed9e59fb03d3a0399e7"
   }
  }
 },
 "nbformat": 4,
 "nbformat_minor": 2
}
