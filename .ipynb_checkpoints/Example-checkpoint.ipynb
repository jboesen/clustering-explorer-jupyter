{
 "cells": [
  {
   "cell_type": "code",
   "execution_count": 1,
   "id": "8735c0fe",
   "metadata": {},
   "outputs": [],
   "source": [
    "selected_point = \"\""
   ]
  },
  {
   "cell_type": "code",
   "execution_count": 2,
   "id": "2dc8d2f5",
   "metadata": {},
   "outputs": [],
   "source": [
    "def target_func(comm, open_msg):\n",
    "    # comm is the kernel Comm instance\n",
    "    # msg is the comm_open message\n",
    "\n",
    "    # Register handler for later messages\n",
    "    @comm.on_msg\n",
    "    def _recv(msg):\n",
    "        global selected_point\n",
    "\n",
    "        data = msg['content']['data']\n",
    "        selected_point = data['selected_point']\n",
    "        \n",
    "get_ipython().kernel.comm_manager.register_target('comm1', target_func)"
   ]
  },
  {
   "cell_type": "code",
   "execution_count": 3,
   "id": "cd1adfb3",
   "metadata": {},
   "outputs": [
    {
     "name": "stdout",
     "output_type": "stream",
     "text": [
      "\n"
     ]
    }
   ],
   "source": [
    "print(selected_point)"
   ]
  },
  {
   "cell_type": "code",
   "execution_count": 15,
   "id": "e91b51f9",
   "metadata": {},
   "outputs": [
    {
     "data": {
      "text/html": [
       "<html>\n",
       "<head>\n",
       "</head>\n",
       "<body>\n",
       "  <div id=\"myDiv\"></div>\n",
       "  <script>\n",
       "    d3.select(\"chartdiv\").append(\"myDiv\")\n",
       "  </script>\n",
       "</body>\n",
       "</html>\n"
      ],
      "text/plain": [
       "<IPython.core.display.HTML object>"
      ]
     },
     "metadata": {},
     "output_type": "display_data"
    }
   ],
   "source": [
    "%%html\n",
    "<html>\n",
    "<head>\n",
    "</head>\n",
    "<body>\n",
    "  <div id=\"myDiv\"></div>\n",
    "  <script>\n",
    "    d3.select(\"chartdiv\").append(\"myDiv\")\n",
    "  </script>\n",
    "</body>\n",
    "</html>"
   ]
  },
  {
   "cell_type": "code",
   "execution_count": 12,
   "id": "dd55a685",
   "metadata": {},
   "outputs": [
    {
     "data": {
      "text/html": [
       "<html>\n",
       "<head>\n",
       "    <script src=\"https://d3js.org/d3.v4.min.js\"></script>\n",
       "    <script src=\"./d3-lasso.min.js\"></script>\n",
       "    <style>\n",
       "        circle {\n",
       "            fill-opacity: 0.5;\n",
       "        }\n",
       "\n",
       "        .lasso path {\n",
       "            stroke: rgb(80,80,80);\n",
       "            stroke-width:2px;\n",
       "        }\n",
       "\n",
       "        .lasso .drawn {\n",
       "            fill-opacity:.05 ;\n",
       "        }\n",
       "\n",
       "        .lasso .loop_close {\n",
       "            fill:none;\n",
       "            stroke-dasharray: 4,4;\n",
       "        }\n",
       "\n",
       "        .lasso .origin {\n",
       "            fill:#3399FF;\n",
       "            fill-opacity:.5;\n",
       "        }\n",
       "\n",
       "        .not_possible {\n",
       "            fill: rgb(200,200,200);\n",
       "        }\n",
       "\n",
       "        .possible {\n",
       "            fill: #EC888C;\n",
       "        }\n",
       "\n",
       "        .selected {\n",
       "            fill: steelblue;\n",
       "        }\n",
       "    </style>\n",
       "</head>\n",
       "<body>\n",
       "    <div id=\"chartdiv\"></div>\n",
       "    <script>\n",
       "        var data = new Array(100).fill(null).map(m=>[Math.random(),Math.random()]);\n",
       "        var w = 960;\n",
       "        var h = 500;\n",
       "        var r = 3.5;\n",
       "\n",
       "        var svg = d3.select(\"chartdiv\").append(\"svg\")\n",
       "            .attr(\"width\",w)\n",
       "            .attr(\"height\",h);\n",
       "        \n",
       "        var circles = svg.selectAll(\"circle\")\n",
       "            .data(data)\n",
       "            .enter()\n",
       "            .append(\"circle\")\n",
       "            .attr(\"cx\",d=>d[0]*w)\n",
       "            .attr(\"cy\",d=>d[1]*h)\n",
       "            .attr(\"r\",r);\n",
       "        \n",
       "        // Lasso functions\n",
       "        var lasso_start = function() {\n",
       "            lasso.items()\n",
       "                .attr(\"r\",3.5) // reset size\n",
       "                .classed(\"not_possible\",true)\n",
       "                .classed(\"selected\",false);\n",
       "        };\n",
       "\n",
       "        var lasso_draw = function() {\n",
       "        \n",
       "            // Style the possible dots\n",
       "            lasso.possibleItems()\n",
       "                .classed(\"not_possible\",false)\n",
       "                .classed(\"possible\",true);\n",
       "\n",
       "            // Style the not possible dot\n",
       "            lasso.notPossibleItems()\n",
       "                .classed(\"not_possible\",true)\n",
       "                .classed(\"possible\",false);\n",
       "        };\n",
       "\n",
       "        var lasso_end = function() {\n",
       "            // Reset the color of all dots\n",
       "            lasso.items()\n",
       "                .classed(\"not_possible\",false)\n",
       "                .classed(\"possible\",false);\n",
       "\n",
       "            // Style the selected dots\n",
       "            lasso.selectedItems()\n",
       "                .classed(\"selected\",true)\n",
       "                .attr(\"r\",7);\n",
       "\n",
       "            // Reset the style of the not selected dots\n",
       "            lasso.notSelectedItems()\n",
       "                .attr(\"r\",3.5);\n",
       "\n",
       "        };\n",
       "        \n",
       "        var lasso = d3.lasso()\n",
       "            .closePathSelect(true)\n",
       "            .closePathDistance(100)\n",
       "            .items(circles)\n",
       "            .targetArea(svg)\n",
       "            .on(\"start\",lasso_start)\n",
       "            .on(\"draw\",lasso_draw)\n",
       "            .on(\"end\",lasso_end);\n",
       "        \n",
       "        svg.call(lasso);\n",
       "    </script>\n",
       "</body>\n",
       "</html>\n"
      ],
      "text/plain": [
       "<IPython.core.display.HTML object>"
      ]
     },
     "metadata": {},
     "output_type": "display_data"
    }
   ],
   "source": [
    "%%html\n",
    "<html>\n",
    "<head>\n",
    "    <script src=\"https://d3js.org/d3.v4.min.js\"></script>\n",
    "    <script src=\"./d3-lasso.min.js\"></script>\n",
    "    <style>\n",
    "        circle {\n",
    "            fill-opacity: 0.5;\n",
    "        }\n",
    "\n",
    "        .lasso path {\n",
    "            stroke: rgb(80,80,80);\n",
    "            stroke-width:2px;\n",
    "        }\n",
    "\n",
    "        .lasso .drawn {\n",
    "            fill-opacity:.05 ;\n",
    "        }\n",
    "\n",
    "        .lasso .loop_close {\n",
    "            fill:none;\n",
    "            stroke-dasharray: 4,4;\n",
    "        }\n",
    "\n",
    "        .lasso .origin {\n",
    "            fill:#3399FF;\n",
    "            fill-opacity:.5;\n",
    "        }\n",
    "\n",
    "        .not_possible {\n",
    "            fill: rgb(200,200,200);\n",
    "        }\n",
    "\n",
    "        .possible {\n",
    "            fill: #EC888C;\n",
    "        }\n",
    "\n",
    "        .selected {\n",
    "            fill: steelblue;\n",
    "        }\n",
    "    </style>\n",
    "</head>\n",
    "<body>\n",
    "    <div id=\"chartdiv\"></div>\n",
    "    <script>\n",
    "        var data = new Array(100).fill(null).map(m=>[Math.random(),Math.random()]);\n",
    "        var w = 960;\n",
    "        var h = 500;\n",
    "        var r = 3.5;\n",
    "\n",
    "        var svg = d3.select(\"chartdiv\").append(\"svg\")\n",
    "            .attr(\"width\",w)\n",
    "            .attr(\"height\",h);\n",
    "        \n",
    "        var circles = svg.selectAll(\"circle\")\n",
    "            .data(data)\n",
    "            .enter()\n",
    "            .append(\"circle\")\n",
    "            .attr(\"cx\",d=>d[0]*w)\n",
    "            .attr(\"cy\",d=>d[1]*h)\n",
    "            .attr(\"r\",r);\n",
    "        \n",
    "        // Lasso functions\n",
    "        var lasso_start = function() {\n",
    "            lasso.items()\n",
    "                .attr(\"r\",3.5) // reset size\n",
    "                .classed(\"not_possible\",true)\n",
    "                .classed(\"selected\",false);\n",
    "        };\n",
    "\n",
    "        var lasso_draw = function() {\n",
    "        \n",
    "            // Style the possible dots\n",
    "            lasso.possibleItems()\n",
    "                .classed(\"not_possible\",false)\n",
    "                .classed(\"possible\",true);\n",
    "\n",
    "            // Style the not possible dot\n",
    "            lasso.notPossibleItems()\n",
    "                .classed(\"not_possible\",true)\n",
    "                .classed(\"possible\",false);\n",
    "        };\n",
    "\n",
    "        var lasso_end = function() {\n",
    "            // Reset the color of all dots\n",
    "            lasso.items()\n",
    "                .classed(\"not_possible\",false)\n",
    "                .classed(\"possible\",false);\n",
    "\n",
    "            // Style the selected dots\n",
    "            lasso.selectedItems()\n",
    "                .classed(\"selected\",true)\n",
    "                .attr(\"r\",7);\n",
    "\n",
    "            // Reset the style of the not selected dots\n",
    "            lasso.notSelectedItems()\n",
    "                .attr(\"r\",3.5);\n",
    "\n",
    "        };\n",
    "        \n",
    "        var lasso = d3.lasso()\n",
    "            .closePathSelect(true)\n",
    "            .closePathDistance(100)\n",
    "            .items(circles)\n",
    "            .targetArea(svg)\n",
    "            .on(\"start\",lasso_start)\n",
    "            .on(\"draw\",lasso_draw)\n",
    "            .on(\"end\",lasso_end);\n",
    "        \n",
    "        svg.call(lasso);\n",
    "    </script>\n",
    "</body>\n",
    "</html>"
   ]
  },
  {
   "cell_type": "code",
   "execution_count": 5,
   "id": "3f9732cb",
   "metadata": {},
   "outputs": [
    {
     "name": "stdout",
     "output_type": "stream",
     "text": [
      "\n"
     ]
    }
   ],
   "source": [
    "print(selected_point)"
   ]
  },
  {
   "cell_type": "code",
   "execution_count": 6,
   "id": "07645611",
   "metadata": {},
   "outputs": [
    {
     "name": "stdout",
     "output_type": "stream",
     "text": [
      "\n"
     ]
    }
   ],
   "source": [
    "print(selected_point)"
   ]
  },
  {
   "cell_type": "code",
   "execution_count": null,
   "id": "ae4e5745",
   "metadata": {},
   "outputs": [],
   "source": []
  }
 ],
 "metadata": {
  "kernelspec": {
   "display_name": "Python 3.10.4 ('meaner_redteamer-env')",
   "language": "python",
   "name": "python3"
  },
  "language_info": {
   "codemirror_mode": {
    "name": "ipython",
    "version": 3
   },
   "file_extension": ".py",
   "mimetype": "text/x-python",
   "name": "python",
   "nbconvert_exporter": "python",
   "pygments_lexer": "ipython3",
   "version": "3.10.4"
  },
  "vscode": {
   "interpreter": {
    "hash": "286a60f1c72aacc15b1cee87a90ec1ceb8922efc14486ed9e59fb03d3a0399e7"
   }
  }
 },
 "nbformat": 4,
 "nbformat_minor": 5
}
