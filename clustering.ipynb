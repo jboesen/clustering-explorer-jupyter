{
 "cells": [
  {
   "cell_type": "code",
   "execution_count": 165,
   "metadata": {},
   "outputs": [],
   "source": [
    "import dtreeviz\n",
    "import matplotlib.pyplot as plt\n",
    "import numpy as np\n",
    "import pandas as pd\n",
    "from IPython.display import display, clear_output\n",
    "from math import ceil, sqrt\n",
    "from sklearn.tree import DecisionTreeClassifier, plot_tree\n",
    "from ipywidgets import HBox, VBox, Layout, widgets\n",
    "from plotly.graph_objs import FigureWidget, Scatter, Table\n",
    "import plotly.express as px\n",
    "import plotly.graph_objects as go\n",
    "from plotly.subplots import make_subplots\n",
    "\n",
    "# Load the Iris dataset\n",
    "iris = datasets.load_iris()\n",
    "df = pd.DataFrame(data= np.c_[iris['data'], iris['target']],\n",
    "                     columns= iris['feature_names'] + ['target'])"
   ]
  },
  {
   "cell_type": "markdown",
   "metadata": {},
   "source": [
    "## Version 2 (interactive)"
   ]
  },
  {
   "cell_type": "code",
   "execution_count": 166,
   "metadata": {},
   "outputs": [],
   "source": [
    "# create histogram\n",
    "def create_histograms(df=df, exclude_cols=['target', '_x', '_y'], legend=True):\n",
    "    curr_df = df.drop(exclude_cols, axis=1)\n",
    "    r = int(sqrt(len(curr_df.columns)))\n",
    "    c = ceil(len(curr_df.columns) / r)\n",
    "    # fig = make_subplots(rows=r+1, cols=c+1, column_width=[1/c for _ in range(c + 1)], horizontal_spacing=0.2)\n",
    "    fig = make_subplots(rows=r+1, cols=c+1)\n",
    "    col_num =0\n",
    "    max_cols = len(df.columns)\n",
    "    for i in range(1, r+1):\n",
    "        for j in range(1, c+1):\n",
    "            if col_num < max_cols:\n",
    "                fig.add_trace(go.Histogram(x=curr_df[curr_df.columns[col_num]], name=curr_df.columns[col_num]), row=i, col=j) \n",
    "                fig.add_annotation(xref=\"x domain\",yref=\"y domain\",x=0.5, y=1.2, showarrow=False,\n",
    "                       text=f\"<b>{curr_df.columns[col_num]}</b>\", row=i, col=j)\n",
    "            col_num += 1\n",
    "    fig.update_layout(margin=dict(l=0, r=0, b=0))\n",
    "    # fig.update_layout(\n",
    "    #     legend=dict(\n",
    "    #     )\n",
    "    # )\n",
    "    fig.update_traces(showlegend=legend)\n",
    "    return fig"
   ]
  },
  {
   "cell_type": "code",
   "execution_count": 180,
   "metadata": {},
   "outputs": [],
   "source": [
    "def explain_cluster(df, x_cols, dtreeviz_plot=True):\n",
    "    # Split data into features and target\n",
    "    X = df[x_cols].values  # replace with the names of the columns you want to use as features\n",
    "    y = df['_selected'].values  # replace with the name of the target column you want to predict\n",
    "\n",
    "    # Create and fit a decision tree classifier\n",
    "    clf = DecisionTreeClassifier()\n",
    "    clf.fit(X, y)\n",
    "    \n",
    "    feature_importances = clf.feature_importances_\n",
    "#     print(feature_importances, x_cols)\n",
    "    # Print the feature importances\n",
    "    # Combine feature names and importances into a list of tuples\n",
    "    feature_importances = list(zip(x_cols, feature_importances))\n",
    "\n",
    "    # Sort the list in descending order by feature importance\n",
    "    feature_importances_sorted = sorted(feature_importances, key=lambda x: x[1], reverse=True)\n",
    "\n",
    "    # Iterate over the sorted list and print out the feature names and importances\n",
    "    from ipywidgets import Output, VBox\n",
    "    print('Feature Importances in Decision Tree')\n",
    "    for feature_name, importance in feature_importances_sorted:\n",
    "        importance_percent = importance * 100\n",
    "        print(f\"{feature_name}: {importance_percent:.2f}%\")    \n",
    "    viz_model = dtreeviz.model(clf,\n",
    "                           X_train=X, y_train=y,\n",
    "                           feature_names=x_cols,\n",
    "                           target_name=['_selected'], class_names=[\"not selected\", \"selected\"])\n",
    "#     plot_tree(clf,\n",
    "#        feature_names = x_cols, \n",
    "# #         feature_names = ['A', 'B', 'C', 'D'],\n",
    "#        class_names=['not selected', 'selected'],\n",
    "#        filled = True)\n",
    "#     print(type(viz_model))\n",
    "\n",
    "    return viz_model.view(scale=0.8)\n"
   ]
  },
  {
   "cell_type": "code",
   "execution_count": 181,
   "metadata": {},
   "outputs": [],
   "source": [
    "# fit decision tree to selected and not zselected points"
   ]
  },
  {
   "cell_type": "code",
   "execution_count": 185,
   "metadata": {},
   "outputs": [
    {
     "name": "stdout",
     "output_type": "stream",
     "text": [
      "<class 'ipywidgets.widgets.widget_output.Output'>\n"
     ]
    },
    {
     "data": {
      "application/vnd.jupyter.widget-view+json": {
       "model_id": "22045c98b29f4d6280ea4aff51f87483",
       "version_major": 2,
       "version_minor": 0
      },
      "text/plain": [
       "VBox(children=(FigureWidget({\n",
       "    'data': [{'marker': {'opacity': 0.5},\n",
       "              'mode': 'markers',\n",
       "     …"
      ]
     },
     "metadata": {},
     "output_type": "display_data"
    },
    {
     "name": "stdout",
     "output_type": "stream",
     "text": [
      "Feature Importances in Decision Tree\n",
      "sepal length (cm): 53.54%\n",
      "sepal width (cm): 22.39%\n",
      "petal length (cm): 12.70%\n",
      "petal width (cm): 11.37%\n"
     ]
    },
    {
     "ename": "TraitError",
     "evalue": "The 'outputs' trait of an Output instance contains a Dict of a TypedTuple which expected a dict, not the DTreeVizRender at '0x7fa7aa206590'.",
     "output_type": "error",
     "traceback": [
      "\u001b[0;31m---------------------------------------------------------------------------\u001b[0m",
      "\u001b[0;31mTraitError\u001b[0m                                Traceback (most recent call last)",
      "File \u001b[0;32m~/Documents/Code/#Projects/ipy-clustering-explorer/clustering-env/lib/python3.10/site-packages/ipywidgets/widgets/widget.py:756\u001b[0m, in \u001b[0;36mWidget._handle_msg\u001b[0;34m(self, msg)\u001b[0m\n\u001b[1;32m    754\u001b[0m         \u001b[38;5;28;01mif\u001b[39;00m \u001b[38;5;124m'\u001b[39m\u001b[38;5;124mbuffer_paths\u001b[39m\u001b[38;5;124m'\u001b[39m \u001b[38;5;129;01min\u001b[39;00m data:\n\u001b[1;32m    755\u001b[0m             _put_buffers(state, data[\u001b[38;5;124m'\u001b[39m\u001b[38;5;124mbuffer_paths\u001b[39m\u001b[38;5;124m'\u001b[39m], msg[\u001b[38;5;124m'\u001b[39m\u001b[38;5;124mbuffers\u001b[39m\u001b[38;5;124m'\u001b[39m])\n\u001b[0;32m--> 756\u001b[0m         \u001b[38;5;28;43mself\u001b[39;49m\u001b[38;5;241;43m.\u001b[39;49m\u001b[43mset_state\u001b[49m\u001b[43m(\u001b[49m\u001b[43mstate\u001b[49m\u001b[43m)\u001b[49m\n\u001b[1;32m    758\u001b[0m \u001b[38;5;66;03m# Handle a state request.\u001b[39;00m\n\u001b[1;32m    759\u001b[0m \u001b[38;5;28;01melif\u001b[39;00m method \u001b[38;5;241m==\u001b[39m \u001b[38;5;124m'\u001b[39m\u001b[38;5;124mrequest_state\u001b[39m\u001b[38;5;124m'\u001b[39m:\n",
      "File \u001b[0;32m~/Documents/Code/#Projects/ipy-clustering-explorer/clustering-env/lib/python3.10/site-packages/ipywidgets/widgets/widget.py:620\u001b[0m, in \u001b[0;36mWidget.set_state\u001b[0;34m(self, sync_data)\u001b[0m\n\u001b[1;32m    615\u001b[0m         \u001b[38;5;28mself\u001b[39m\u001b[38;5;241m.\u001b[39m_send(msg, buffers\u001b[38;5;241m=\u001b[39mecho_buffers)\n\u001b[1;32m    617\u001b[0m \u001b[38;5;66;03m# The order of these context managers is important. Properties must\u001b[39;00m\n\u001b[1;32m    618\u001b[0m \u001b[38;5;66;03m# be locked when the hold_trait_notification context manager is\u001b[39;00m\n\u001b[1;32m    619\u001b[0m \u001b[38;5;66;03m# released and notifications are fired.\u001b[39;00m\n\u001b[0;32m--> 620\u001b[0m \u001b[38;5;28;01mwith\u001b[39;00m \u001b[38;5;28mself\u001b[39m\u001b[38;5;241m.\u001b[39m_lock_property(\u001b[38;5;241m*\u001b[39m\u001b[38;5;241m*\u001b[39msync_data), \u001b[38;5;28mself\u001b[39m\u001b[38;5;241m.\u001b[39mhold_trait_notifications():\n\u001b[1;32m    621\u001b[0m     \u001b[38;5;28;01mfor\u001b[39;00m name \u001b[38;5;129;01min\u001b[39;00m sync_data:\n\u001b[1;32m    622\u001b[0m         \u001b[38;5;28;01mif\u001b[39;00m name \u001b[38;5;129;01min\u001b[39;00m \u001b[38;5;28mself\u001b[39m\u001b[38;5;241m.\u001b[39mkeys:\n",
      "File \u001b[0;32m~/opt/anaconda3/envs/meaner_redteamer-env/lib/python3.10/contextlib.py:142\u001b[0m, in \u001b[0;36m_GeneratorContextManager.__exit__\u001b[0;34m(self, typ, value, traceback)\u001b[0m\n\u001b[1;32m    140\u001b[0m \u001b[38;5;28;01mif\u001b[39;00m typ \u001b[38;5;129;01mis\u001b[39;00m \u001b[38;5;28;01mNone\u001b[39;00m:\n\u001b[1;32m    141\u001b[0m     \u001b[38;5;28;01mtry\u001b[39;00m:\n\u001b[0;32m--> 142\u001b[0m         \u001b[38;5;28;43mnext\u001b[39;49m\u001b[43m(\u001b[49m\u001b[38;5;28;43mself\u001b[39;49m\u001b[38;5;241;43m.\u001b[39;49m\u001b[43mgen\u001b[49m\u001b[43m)\u001b[49m\n\u001b[1;32m    143\u001b[0m     \u001b[38;5;28;01mexcept\u001b[39;00m \u001b[38;5;167;01mStopIteration\u001b[39;00m:\n\u001b[1;32m    144\u001b[0m         \u001b[38;5;28;01mreturn\u001b[39;00m \u001b[38;5;28;01mFalse\u001b[39;00m\n",
      "File \u001b[0;32m~/Documents/Code/#Projects/ipy-clustering-explorer/clustering-env/lib/python3.10/site-packages/traitlets/traitlets.py:1502\u001b[0m, in \u001b[0;36mHasTraits.hold_trait_notifications\u001b[0;34m(self)\u001b[0m\n\u001b[1;32m   1500\u001b[0m \u001b[38;5;28;01mfor\u001b[39;00m changes \u001b[38;5;129;01min\u001b[39;00m cache\u001b[38;5;241m.\u001b[39mvalues():\n\u001b[1;32m   1501\u001b[0m     \u001b[38;5;28;01mfor\u001b[39;00m change \u001b[38;5;129;01min\u001b[39;00m changes:\n\u001b[0;32m-> 1502\u001b[0m         \u001b[38;5;28;43mself\u001b[39;49m\u001b[38;5;241;43m.\u001b[39;49m\u001b[43mnotify_change\u001b[49m\u001b[43m(\u001b[49m\u001b[43mchange\u001b[49m\u001b[43m)\u001b[49m\n",
      "File \u001b[0;32m~/Documents/Code/#Projects/ipy-clustering-explorer/clustering-env/lib/python3.10/site-packages/ipywidgets/widgets/widget.py:686\u001b[0m, in \u001b[0;36mWidget.notify_change\u001b[0;34m(self, change)\u001b[0m\n\u001b[1;32m    683\u001b[0m     \u001b[38;5;28;01mif\u001b[39;00m name \u001b[38;5;129;01min\u001b[39;00m \u001b[38;5;28mself\u001b[39m\u001b[38;5;241m.\u001b[39mkeys \u001b[38;5;129;01mand\u001b[39;00m \u001b[38;5;28mself\u001b[39m\u001b[38;5;241m.\u001b[39m_should_send_property(name, \u001b[38;5;28mgetattr\u001b[39m(\u001b[38;5;28mself\u001b[39m, name)):\n\u001b[1;32m    684\u001b[0m         \u001b[38;5;66;03m# Send new state to front-end\u001b[39;00m\n\u001b[1;32m    685\u001b[0m         \u001b[38;5;28mself\u001b[39m\u001b[38;5;241m.\u001b[39msend_state(key\u001b[38;5;241m=\u001b[39mname)\n\u001b[0;32m--> 686\u001b[0m \u001b[38;5;28;43msuper\u001b[39;49m\u001b[43m(\u001b[49m\u001b[43mWidget\u001b[49m\u001b[43m,\u001b[49m\u001b[43m \u001b[49m\u001b[38;5;28;43mself\u001b[39;49m\u001b[43m)\u001b[49m\u001b[38;5;241;43m.\u001b[39;49m\u001b[43mnotify_change\u001b[49m\u001b[43m(\u001b[49m\u001b[43mchange\u001b[49m\u001b[43m)\u001b[49m\n",
      "File \u001b[0;32m~/Documents/Code/#Projects/ipy-clustering-explorer/clustering-env/lib/python3.10/site-packages/traitlets/traitlets.py:1517\u001b[0m, in \u001b[0;36mHasTraits.notify_change\u001b[0;34m(self, change)\u001b[0m\n\u001b[1;32m   1515\u001b[0m \u001b[38;5;28;01mdef\u001b[39;00m \u001b[38;5;21mnotify_change\u001b[39m(\u001b[38;5;28mself\u001b[39m, change):\n\u001b[1;32m   1516\u001b[0m \u001b[38;5;250m    \u001b[39m\u001b[38;5;124;03m\"\"\"Notify observers of a change event\"\"\"\u001b[39;00m\n\u001b[0;32m-> 1517\u001b[0m     \u001b[38;5;28;01mreturn\u001b[39;00m \u001b[38;5;28;43mself\u001b[39;49m\u001b[38;5;241;43m.\u001b[39;49m\u001b[43m_notify_observers\u001b[49m\u001b[43m(\u001b[49m\u001b[43mchange\u001b[49m\u001b[43m)\u001b[49m\n",
      "File \u001b[0;32m~/Documents/Code/#Projects/ipy-clustering-explorer/clustering-env/lib/python3.10/site-packages/traitlets/traitlets.py:1564\u001b[0m, in \u001b[0;36mHasTraits._notify_observers\u001b[0;34m(self, event)\u001b[0m\n\u001b[1;32m   1561\u001b[0m \u001b[38;5;28;01melif\u001b[39;00m \u001b[38;5;28misinstance\u001b[39m(c, EventHandler) \u001b[38;5;129;01mand\u001b[39;00m c\u001b[38;5;241m.\u001b[39mname \u001b[38;5;129;01mis\u001b[39;00m \u001b[38;5;129;01mnot\u001b[39;00m \u001b[38;5;28;01mNone\u001b[39;00m:\n\u001b[1;32m   1562\u001b[0m     c \u001b[38;5;241m=\u001b[39m \u001b[38;5;28mgetattr\u001b[39m(\u001b[38;5;28mself\u001b[39m, c\u001b[38;5;241m.\u001b[39mname)\n\u001b[0;32m-> 1564\u001b[0m \u001b[43mc\u001b[49m\u001b[43m(\u001b[49m\u001b[43mevent\u001b[49m\u001b[43m)\u001b[49m\n",
      "File \u001b[0;32m~/Documents/Code/#Projects/ipy-clustering-explorer/clustering-env/lib/python3.10/site-packages/plotly/basewidget.py:728\u001b[0m, in \u001b[0;36mBaseFigureWidget._handler_js2py_pointsCallback\u001b[0;34m(self, change)\u001b[0m\n\u001b[1;32m    726\u001b[0m     trace\u001b[38;5;241m.\u001b[39m_dispatch_on_unhover(points, state)\n\u001b[1;32m    727\u001b[0m \u001b[38;5;28;01melif\u001b[39;00m event_type \u001b[38;5;241m==\u001b[39m \u001b[38;5;124m\"\u001b[39m\u001b[38;5;124mplotly_selected\u001b[39m\u001b[38;5;124m\"\u001b[39m:\n\u001b[0;32m--> 728\u001b[0m     \u001b[43mtrace\u001b[49m\u001b[38;5;241;43m.\u001b[39;49m\u001b[43m_dispatch_on_selection\u001b[49m\u001b[43m(\u001b[49m\u001b[43mpoints\u001b[49m\u001b[43m,\u001b[49m\u001b[43m \u001b[49m\u001b[43mselector\u001b[49m\u001b[43m)\u001b[49m\n\u001b[1;32m    729\u001b[0m \u001b[38;5;28;01melif\u001b[39;00m event_type \u001b[38;5;241m==\u001b[39m \u001b[38;5;124m\"\u001b[39m\u001b[38;5;124mplotly_deselect\u001b[39m\u001b[38;5;124m\"\u001b[39m:\n\u001b[1;32m    730\u001b[0m     trace\u001b[38;5;241m.\u001b[39m_dispatch_on_deselect(points)\n",
      "File \u001b[0;32m~/Documents/Code/#Projects/ipy-clustering-explorer/clustering-env/lib/python3.10/site-packages/plotly/basedatatypes.py:6198\u001b[0m, in \u001b[0;36mBaseTraceType._dispatch_on_selection\u001b[0;34m(self, points, selector)\u001b[0m\n\u001b[1;32m   6195\u001b[0m     \u001b[38;5;28mself\u001b[39m\u001b[38;5;241m.\u001b[39mselectedpoints \u001b[38;5;241m=\u001b[39m points\u001b[38;5;241m.\u001b[39mpoint_inds\n\u001b[1;32m   6197\u001b[0m \u001b[38;5;28;01mfor\u001b[39;00m callback \u001b[38;5;129;01min\u001b[39;00m \u001b[38;5;28mself\u001b[39m\u001b[38;5;241m.\u001b[39m_select_callbacks:\n\u001b[0;32m-> 6198\u001b[0m     \u001b[43mcallback\u001b[49m\u001b[43m(\u001b[49m\u001b[38;5;28;43mself\u001b[39;49m\u001b[43m,\u001b[49m\u001b[43m \u001b[49m\u001b[43mpoints\u001b[49m\u001b[43m,\u001b[49m\u001b[43m \u001b[49m\u001b[43mselector\u001b[49m\u001b[43m)\u001b[49m\n",
      "Cell \u001b[0;32mIn[185], line 71\u001b[0m, in \u001b[0;36mcreate_lasso.<locals>.selection_fn\u001b[0;34m(trace, points, selector)\u001b[0m\n\u001b[1;32m     69\u001b[0m \u001b[38;5;28;01mwith\u001b[39;00m s:\n\u001b[1;32m     70\u001b[0m     clear_output(wait\u001b[38;5;241m=\u001b[39m\u001b[38;5;28;01mTrue\u001b[39;00m)\n\u001b[0;32m---> 71\u001b[0m \u001b[43ms\u001b[49m\u001b[38;5;241;43m.\u001b[39;49m\u001b[43moutputs\u001b[49m \u001b[38;5;241m=\u001b[39m [explain_cluster(df, x_cols)]\n\u001b[1;32m     72\u001b[0m display(s)\n",
      "File \u001b[0;32m~/Documents/Code/#Projects/ipy-clustering-explorer/clustering-env/lib/python3.10/site-packages/traitlets/traitlets.py:732\u001b[0m, in \u001b[0;36mTraitType.__set__\u001b[0;34m(self, obj, value)\u001b[0m\n\u001b[1;32m    730\u001b[0m     \u001b[38;5;28;01mraise\u001b[39;00m TraitError(\u001b[38;5;124m'\u001b[39m\u001b[38;5;124mThe \u001b[39m\u001b[38;5;124m\"\u001b[39m\u001b[38;5;132;01m%s\u001b[39;00m\u001b[38;5;124m\"\u001b[39m\u001b[38;5;124m trait is read-only.\u001b[39m\u001b[38;5;124m'\u001b[39m \u001b[38;5;241m%\u001b[39m \u001b[38;5;28mself\u001b[39m\u001b[38;5;241m.\u001b[39mname)\n\u001b[1;32m    731\u001b[0m \u001b[38;5;28;01melse\u001b[39;00m:\n\u001b[0;32m--> 732\u001b[0m     \u001b[38;5;28;43mself\u001b[39;49m\u001b[38;5;241;43m.\u001b[39;49m\u001b[43mset\u001b[49m\u001b[43m(\u001b[49m\u001b[43mobj\u001b[49m\u001b[43m,\u001b[49m\u001b[43m \u001b[49m\u001b[43mvalue\u001b[49m\u001b[43m)\u001b[49m\n",
      "File \u001b[0;32m~/Documents/Code/#Projects/ipy-clustering-explorer/clustering-env/lib/python3.10/site-packages/traitlets/traitlets.py:706\u001b[0m, in \u001b[0;36mTraitType.set\u001b[0;34m(self, obj, value)\u001b[0m\n\u001b[1;32m    705\u001b[0m \u001b[38;5;28;01mdef\u001b[39;00m \u001b[38;5;21mset\u001b[39m(\u001b[38;5;28mself\u001b[39m, obj, value):\n\u001b[0;32m--> 706\u001b[0m     new_value \u001b[38;5;241m=\u001b[39m \u001b[38;5;28;43mself\u001b[39;49m\u001b[38;5;241;43m.\u001b[39;49m\u001b[43m_validate\u001b[49m\u001b[43m(\u001b[49m\u001b[43mobj\u001b[49m\u001b[43m,\u001b[49m\u001b[43m \u001b[49m\u001b[43mvalue\u001b[49m\u001b[43m)\u001b[49m\n\u001b[1;32m    707\u001b[0m     \u001b[38;5;28;01mtry\u001b[39;00m:\n\u001b[1;32m    708\u001b[0m         old_value \u001b[38;5;241m=\u001b[39m obj\u001b[38;5;241m.\u001b[39m_trait_values[\u001b[38;5;28mself\u001b[39m\u001b[38;5;241m.\u001b[39mname]\n",
      "File \u001b[0;32m~/Documents/Code/#Projects/ipy-clustering-explorer/clustering-env/lib/python3.10/site-packages/traitlets/traitlets.py:738\u001b[0m, in \u001b[0;36mTraitType._validate\u001b[0;34m(self, obj, value)\u001b[0m\n\u001b[1;32m    736\u001b[0m     \u001b[38;5;28;01mreturn\u001b[39;00m value\n\u001b[1;32m    737\u001b[0m \u001b[38;5;28;01mif\u001b[39;00m \u001b[38;5;28mhasattr\u001b[39m(\u001b[38;5;28mself\u001b[39m, \u001b[38;5;124m\"\u001b[39m\u001b[38;5;124mvalidate\u001b[39m\u001b[38;5;124m\"\u001b[39m):\n\u001b[0;32m--> 738\u001b[0m     value \u001b[38;5;241m=\u001b[39m \u001b[38;5;28;43mself\u001b[39;49m\u001b[38;5;241;43m.\u001b[39;49m\u001b[43mvalidate\u001b[49m\u001b[43m(\u001b[49m\u001b[43mobj\u001b[49m\u001b[43m,\u001b[49m\u001b[43m \u001b[49m\u001b[43mvalue\u001b[49m\u001b[43m)\u001b[49m\n\u001b[1;32m    739\u001b[0m \u001b[38;5;28;01mif\u001b[39;00m obj\u001b[38;5;241m.\u001b[39m_cross_validation_lock \u001b[38;5;129;01mis\u001b[39;00m \u001b[38;5;28;01mFalse\u001b[39;00m:\n\u001b[1;32m    740\u001b[0m     value \u001b[38;5;241m=\u001b[39m \u001b[38;5;28mself\u001b[39m\u001b[38;5;241m.\u001b[39m_cross_validate(obj, value)\n",
      "File \u001b[0;32m~/Documents/Code/#Projects/ipy-clustering-explorer/clustering-env/lib/python3.10/site-packages/traitlets/traitlets.py:2871\u001b[0m, in \u001b[0;36mContainer.validate\u001b[0;34m(self, obj, value)\u001b[0m\n\u001b[1;32m   2868\u001b[0m \u001b[38;5;28;01mif\u001b[39;00m value \u001b[38;5;129;01mis\u001b[39;00m \u001b[38;5;28;01mNone\u001b[39;00m:\n\u001b[1;32m   2869\u001b[0m     \u001b[38;5;28;01mreturn\u001b[39;00m value\n\u001b[0;32m-> 2871\u001b[0m value \u001b[38;5;241m=\u001b[39m \u001b[38;5;28;43mself\u001b[39;49m\u001b[38;5;241;43m.\u001b[39;49m\u001b[43mvalidate_elements\u001b[49m\u001b[43m(\u001b[49m\u001b[43mobj\u001b[49m\u001b[43m,\u001b[49m\u001b[43m \u001b[49m\u001b[43mvalue\u001b[49m\u001b[43m)\u001b[49m\n\u001b[1;32m   2873\u001b[0m \u001b[38;5;28;01mreturn\u001b[39;00m value\n",
      "File \u001b[0;32m~/Documents/Code/#Projects/ipy-clustering-explorer/clustering-env/lib/python3.10/site-packages/traitlets/traitlets.py:2883\u001b[0m, in \u001b[0;36mContainer.validate_elements\u001b[0;34m(self, obj, value)\u001b[0m\n\u001b[1;32m   2881\u001b[0m     v \u001b[38;5;241m=\u001b[39m \u001b[38;5;28mself\u001b[39m\u001b[38;5;241m.\u001b[39m_trait\u001b[38;5;241m.\u001b[39m_validate(obj, v)\n\u001b[1;32m   2882\u001b[0m \u001b[38;5;28;01mexcept\u001b[39;00m TraitError \u001b[38;5;28;01mas\u001b[39;00m error:\n\u001b[0;32m-> 2883\u001b[0m     \u001b[38;5;28;43mself\u001b[39;49m\u001b[38;5;241;43m.\u001b[39;49m\u001b[43merror\u001b[49m\u001b[43m(\u001b[49m\u001b[43mobj\u001b[49m\u001b[43m,\u001b[49m\u001b[43m \u001b[49m\u001b[43mv\u001b[49m\u001b[43m,\u001b[49m\u001b[43m \u001b[49m\u001b[43merror\u001b[49m\u001b[43m)\u001b[49m\n\u001b[1;32m   2884\u001b[0m \u001b[38;5;28;01melse\u001b[39;00m:\n\u001b[1;32m   2885\u001b[0m     validated\u001b[38;5;241m.\u001b[39mappend(v)\n",
      "File \u001b[0;32m~/Documents/Code/#Projects/ipy-clustering-explorer/clustering-env/lib/python3.10/site-packages/traitlets/traitlets.py:823\u001b[0m, in \u001b[0;36mTraitType.error\u001b[0;34m(self, obj, value, error, info)\u001b[0m\n\u001b[1;32m    812\u001b[0m         \u001b[38;5;28;01melse\u001b[39;00m:\n\u001b[1;32m    813\u001b[0m             error\u001b[38;5;241m.\u001b[39margs \u001b[38;5;241m=\u001b[39m (\n\u001b[1;32m    814\u001b[0m                 \u001b[38;5;124m\"\u001b[39m\u001b[38;5;124mThe \u001b[39m\u001b[38;5;124m'\u001b[39m\u001b[38;5;132;01m%s\u001b[39;00m\u001b[38;5;124m'\u001b[39m\u001b[38;5;124m trait contains \u001b[39m\u001b[38;5;132;01m%s\u001b[39;00m\u001b[38;5;124m which \u001b[39m\u001b[38;5;124m\"\u001b[39m\n\u001b[1;32m    815\u001b[0m                 \u001b[38;5;124m\"\u001b[39m\u001b[38;5;124mexpected \u001b[39m\u001b[38;5;132;01m%s\u001b[39;00m\u001b[38;5;124m, not \u001b[39m\u001b[38;5;132;01m%s\u001b[39;00m\u001b[38;5;124m.\u001b[39m\u001b[38;5;124m\"\u001b[39m\n\u001b[0;32m   (...)\u001b[0m\n\u001b[1;32m    821\u001b[0m                 ),\n\u001b[1;32m    822\u001b[0m             )\n\u001b[0;32m--> 823\u001b[0m     \u001b[38;5;28;01mraise\u001b[39;00m error\n\u001b[1;32m    824\u001b[0m \u001b[38;5;28;01melse\u001b[39;00m:\n\u001b[1;32m    825\u001b[0m     \u001b[38;5;66;03m# this trait caused an error\u001b[39;00m\n\u001b[1;32m    826\u001b[0m     \u001b[38;5;28;01mif\u001b[39;00m \u001b[38;5;28mself\u001b[39m\u001b[38;5;241m.\u001b[39mname \u001b[38;5;129;01mis\u001b[39;00m \u001b[38;5;28;01mNone\u001b[39;00m:\n\u001b[1;32m    827\u001b[0m         \u001b[38;5;66;03m# this is not the root trait\u001b[39;00m\n",
      "File \u001b[0;32m~/Documents/Code/#Projects/ipy-clustering-explorer/clustering-env/lib/python3.10/site-packages/traitlets/traitlets.py:2881\u001b[0m, in \u001b[0;36mContainer.validate_elements\u001b[0;34m(self, obj, value)\u001b[0m\n\u001b[1;32m   2879\u001b[0m \u001b[38;5;28;01mfor\u001b[39;00m v \u001b[38;5;129;01min\u001b[39;00m value:\n\u001b[1;32m   2880\u001b[0m     \u001b[38;5;28;01mtry\u001b[39;00m:\n\u001b[0;32m-> 2881\u001b[0m         v \u001b[38;5;241m=\u001b[39m \u001b[38;5;28;43mself\u001b[39;49m\u001b[38;5;241;43m.\u001b[39;49m\u001b[43m_trait\u001b[49m\u001b[38;5;241;43m.\u001b[39;49m\u001b[43m_validate\u001b[49m\u001b[43m(\u001b[49m\u001b[43mobj\u001b[49m\u001b[43m,\u001b[49m\u001b[43m \u001b[49m\u001b[43mv\u001b[49m\u001b[43m)\u001b[49m\n\u001b[1;32m   2882\u001b[0m     \u001b[38;5;28;01mexcept\u001b[39;00m TraitError \u001b[38;5;28;01mas\u001b[39;00m error:\n\u001b[1;32m   2883\u001b[0m         \u001b[38;5;28mself\u001b[39m\u001b[38;5;241m.\u001b[39merror(obj, v, error)\n",
      "File \u001b[0;32m~/Documents/Code/#Projects/ipy-clustering-explorer/clustering-env/lib/python3.10/site-packages/traitlets/traitlets.py:738\u001b[0m, in \u001b[0;36mTraitType._validate\u001b[0;34m(self, obj, value)\u001b[0m\n\u001b[1;32m    736\u001b[0m     \u001b[38;5;28;01mreturn\u001b[39;00m value\n\u001b[1;32m    737\u001b[0m \u001b[38;5;28;01mif\u001b[39;00m \u001b[38;5;28mhasattr\u001b[39m(\u001b[38;5;28mself\u001b[39m, \u001b[38;5;124m\"\u001b[39m\u001b[38;5;124mvalidate\u001b[39m\u001b[38;5;124m\"\u001b[39m):\n\u001b[0;32m--> 738\u001b[0m     value \u001b[38;5;241m=\u001b[39m \u001b[38;5;28;43mself\u001b[39;49m\u001b[38;5;241;43m.\u001b[39;49m\u001b[43mvalidate\u001b[49m\u001b[43m(\u001b[49m\u001b[43mobj\u001b[49m\u001b[43m,\u001b[49m\u001b[43m \u001b[49m\u001b[43mvalue\u001b[49m\u001b[43m)\u001b[49m\n\u001b[1;32m    739\u001b[0m \u001b[38;5;28;01mif\u001b[39;00m obj\u001b[38;5;241m.\u001b[39m_cross_validation_lock \u001b[38;5;129;01mis\u001b[39;00m \u001b[38;5;28;01mFalse\u001b[39;00m:\n\u001b[1;32m    740\u001b[0m     value \u001b[38;5;241m=\u001b[39m \u001b[38;5;28mself\u001b[39m\u001b[38;5;241m.\u001b[39m_cross_validate(obj, value)\n",
      "File \u001b[0;32m~/Documents/Code/#Projects/ipy-clustering-explorer/clustering-env/lib/python3.10/site-packages/traitlets/traitlets.py:3361\u001b[0m, in \u001b[0;36mDict.validate\u001b[0;34m(self, obj, value)\u001b[0m\n\u001b[1;32m   3360\u001b[0m \u001b[38;5;28;01mdef\u001b[39;00m \u001b[38;5;21mvalidate\u001b[39m(\u001b[38;5;28mself\u001b[39m, obj, value):\n\u001b[0;32m-> 3361\u001b[0m     value \u001b[38;5;241m=\u001b[39m \u001b[38;5;28;43msuper\u001b[39;49m\u001b[43m(\u001b[49m\u001b[43m)\u001b[49m\u001b[38;5;241;43m.\u001b[39;49m\u001b[43mvalidate\u001b[49m\u001b[43m(\u001b[49m\u001b[43mobj\u001b[49m\u001b[43m,\u001b[49m\u001b[43m \u001b[49m\u001b[43mvalue\u001b[49m\u001b[43m)\u001b[49m\n\u001b[1;32m   3362\u001b[0m     \u001b[38;5;28;01mif\u001b[39;00m value \u001b[38;5;129;01mis\u001b[39;00m \u001b[38;5;28;01mNone\u001b[39;00m:\n\u001b[1;32m   3363\u001b[0m         \u001b[38;5;28;01mreturn\u001b[39;00m value\n",
      "File \u001b[0;32m~/Documents/Code/#Projects/ipy-clustering-explorer/clustering-env/lib/python3.10/site-packages/traitlets/traitlets.py:2151\u001b[0m, in \u001b[0;36mInstance.validate\u001b[0;34m(self, obj, value)\u001b[0m\n\u001b[1;32m   2149\u001b[0m     \u001b[38;5;28;01mreturn\u001b[39;00m value\n\u001b[1;32m   2150\u001b[0m \u001b[38;5;28;01melse\u001b[39;00m:\n\u001b[0;32m-> 2151\u001b[0m     \u001b[38;5;28;43mself\u001b[39;49m\u001b[38;5;241;43m.\u001b[39;49m\u001b[43merror\u001b[49m\u001b[43m(\u001b[49m\u001b[43mobj\u001b[49m\u001b[43m,\u001b[49m\u001b[43m \u001b[49m\u001b[43mvalue\u001b[49m\u001b[43m)\u001b[49m\n",
      "File \u001b[0;32m~/Documents/Code/#Projects/ipy-clustering-explorer/clustering-env/lib/python3.10/site-packages/traitlets/traitlets.py:828\u001b[0m, in \u001b[0;36mTraitType.error\u001b[0;34m(self, obj, value, error, info)\u001b[0m\n\u001b[1;32m    824\u001b[0m \u001b[38;5;28;01melse\u001b[39;00m:\n\u001b[1;32m    825\u001b[0m     \u001b[38;5;66;03m# this trait caused an error\u001b[39;00m\n\u001b[1;32m    826\u001b[0m     \u001b[38;5;28;01mif\u001b[39;00m \u001b[38;5;28mself\u001b[39m\u001b[38;5;241m.\u001b[39mname \u001b[38;5;129;01mis\u001b[39;00m \u001b[38;5;28;01mNone\u001b[39;00m:\n\u001b[1;32m    827\u001b[0m         \u001b[38;5;66;03m# this is not the root trait\u001b[39;00m\n\u001b[0;32m--> 828\u001b[0m         \u001b[38;5;28;01mraise\u001b[39;00m TraitError(value, info \u001b[38;5;129;01mor\u001b[39;00m \u001b[38;5;28mself\u001b[39m\u001b[38;5;241m.\u001b[39minfo(), \u001b[38;5;28mself\u001b[39m)\n\u001b[1;32m    829\u001b[0m     \u001b[38;5;28;01melse\u001b[39;00m:\n\u001b[1;32m    830\u001b[0m         \u001b[38;5;66;03m# this is the root trait\u001b[39;00m\n\u001b[1;32m    831\u001b[0m         \u001b[38;5;28;01mif\u001b[39;00m obj \u001b[38;5;129;01mis\u001b[39;00m \u001b[38;5;129;01mnot\u001b[39;00m \u001b[38;5;28;01mNone\u001b[39;00m:\n",
      "\u001b[0;31mTraitError\u001b[0m: The 'outputs' trait of an Output instance contains a Dict of a TypedTuple which expected a dict, not the DTreeVizRender at '0x7fa7aa206590'."
     ]
    },
    {
     "name": "stdout",
     "output_type": "stream",
     "text": [
      "Feature Importances in Decision Tree\n",
      "petal width (cm): 91.54%\n",
      "sepal width (cm): 5.23%\n",
      "petal length (cm): 1.93%\n",
      "sepal length (cm): 1.30%\n"
     ]
    }
   ],
   "source": [
    "def create_lasso(data=df, mode='table', exclude_cols=[]):\n",
    "    \"\"\"\n",
    "    Input: Datafame\n",
    "    Output: Plotly FigureWidget with lasso select tool\n",
    "    data: Pandas Dataframe of data\n",
    "    exclude_cols: columns to exclude\n",
    "    mode:\n",
    "     - 'table' shows a table of selected points\n",
    "     - 'histogram' shows an interactive histogram selected points\n",
    "     - 'explainer' predicts which factors lead to clustered selection\n",
    "    \"\"\"\n",
    "    IS_HIST = mode == 'histogram'\n",
    "    TOP_FACTORS = mode == 'explainer'\n",
    "    s = widgets.Output()\n",
    "    pca = PCA(n_components=2)\n",
    "    pca.fit(df)\n",
    "    pca_df = pd.DataFrame(pca.transform(df), columns=['_x', '_y'])\n",
    "    df['_x'] = pca_df['_x']\n",
    "    df['_y'] = pca_df['_y']\n",
    "\n",
    "    # TODO: default to lasso select\n",
    "    # data_name = f\"{df=}\".split('=')[0]\n",
    "    f = FigureWidget([Scatter(y = df[\"_x\"], x = df[\"_y\"], mode = 'markers')])\n",
    "    f.update_layout(dragmode='lasso')\n",
    "    f.layout.title = \"Data Lasso Scatterplot\"\n",
    "    scatter = f.data[0]\n",
    "    df.dropna()\n",
    "    exclude_cols.extend(['_x', '_y'])\n",
    "\n",
    "    N = len(df)\n",
    "    scatter.marker.opacity = 0.5\n",
    "    t = None\n",
    "    \n",
    "    if mode=='table':\n",
    "        # Create a table FigureWidget that updates on selection from points in the scatter plot of f\n",
    "        t = FigureWidget([Table(\n",
    "            header=dict(values=df.columns,\n",
    "                        fill = dict(color='#C2D4FF'),\n",
    "                        align = ['left'] * 5),\n",
    "\n",
    "            cells=dict(values=[df[col] for col in df.columns],\n",
    "                    fill = dict(color='#F5F8FF'),\n",
    "                    align = ['left'] * 5\n",
    "                    ))])\n",
    "    if IS_HIST:\n",
    "        hist = create_histograms(df, exclude_cols=exclude_cols, legend=True)\n",
    "        no_legend = create_histograms(df, exclude_cols=exclude_cols)\n",
    "        # t is for \"table\", but can also be where data is\n",
    "        t = go.FigureWidget(no_legend, )\n",
    "        t.layout.title = 'All Points'\n",
    "        # s is selected\n",
    "        s = go.FigureWidget(hist)\n",
    "        s.layout.title = 'Selected Points'\n",
    "    if TOP_FACTORS:\n",
    "        pass\n",
    "    print(type(s))\n",
    "    def selection_fn(trace,points,selector):\n",
    "        nonlocal s\n",
    "        if mode=='table':\n",
    "            t.data[0].cells.values = [df.loc[points.point_inds][col] for col in df.columns]\n",
    "        if IS_HIST:\n",
    "            selected = df[df.index.isin(points.point_inds)]\n",
    "            new_charts = create_histograms(selected, exclude_cols=exclude_cols, legend=True)\n",
    "            s.data = []\n",
    "            s.add_traces(new_charts.data)\n",
    "        if TOP_FACTORS:\n",
    "            df['_selected'] = df.index.isin(points.point_inds)\n",
    "            x_cols = list(filter(lambda x: x not in exclude_cols and x != '_selected', df.columns))\n",
    "            with s:\n",
    "                clear_output(wait=True)\n",
    "            s.outputs = [explain_cluster(df, x_cols)]\n",
    "            display(s)\n",
    "            # t.data = []\n",
    "            # t.add_traces(decision_tree.data)            \n",
    "    scatter.on_selection(selection_fn)\n",
    "\n",
    "    # iplot({data : scatter.on_selection(selection_fn)})\n",
    "    # Put everything together\n",
    "    if IS_HIST:\n",
    "        return VBox((f, s, t), layout=Layout(align_items='flex-start', margin='0px', justify_content='center'))\n",
    "    return VBox(tuple(x for x in [f, s, t] if x))\n",
    "\n",
    "create_lasso(mode='explainer', exclude_cols=['target'])"
   ]
  },
  {
   "cell_type": "code",
   "execution_count": null,
   "metadata": {},
   "outputs": [],
   "source": []
  },
  {
   "cell_type": "code",
   "execution_count": null,
   "metadata": {},
   "outputs": [],
   "source": []
  }
 ],
 "metadata": {
  "kernelspec": {
   "display_name": "clustering-env",
   "language": "python",
   "name": "clustering-env"
  },
  "language_info": {
   "codemirror_mode": {
    "name": "ipython",
    "version": 3
   },
   "file_extension": ".py",
   "mimetype": "text/x-python",
   "name": "python",
   "nbconvert_exporter": "python",
   "pygments_lexer": "ipython3",
   "version": "3.10.4"
  },
  "vscode": {
   "interpreter": {
    "hash": "3be008d9598bdeb156bf19ddb750f087ef8697cc8713cee29e62b7d60c55a336"
   }
  }
 },
 "nbformat": 4,
 "nbformat_minor": 4
}
